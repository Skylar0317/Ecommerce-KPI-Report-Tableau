{
 "cells": [
  {
   "cell_type": "code",
   "execution_count": null,
   "id": "48df38c3",
   "metadata": {},
   "outputs": [
    {
     "name": "stdout",
     "output_type": "stream",
     "text": [
      "Missing value check:\n",
      "Row ID               0\n",
      "Order ID             0\n",
      "Order Date           0\n",
      "Customer ID          0\n",
      "Segment              0\n",
      "City                 0\n",
      "State                0\n",
      "Country              0\n",
      "Country latitude     0\n",
      "Country longitude    0\n",
      "Region               0\n",
      "Market               0\n",
      "Subcategory          0\n",
      "Category             0\n",
      "Product              0\n",
      "Quantity             0\n",
      "Sales                0\n",
      "Discount             0\n",
      "Profit               0\n",
      "Year                 0\n",
      "dtype: int64\n",
      "Data cleaning completed — CSV file saved for Tableau.\n"
     ]
    }
   ],
   "source": [
    "import pandas as pd\n",
    "\n",
    "file_path = r'C:\\Users\\mate book\\Desktop\\Global skincare and Beauty e-store_E-Commerce Analysis_English.xlsx'\n",
    "df = pd.read_excel(file_path, sheet_name='data')\n",
    "\n",
    "# Convert 'Order Date' to datetime format and create a 'Year' column\n",
    "df['Order Date'] = pd.to_datetime(df['Order Date'], errors='coerce')  # Handle invalid dates safely\n",
    "df['Year'] = df['Order Date'].dt.year\n",
    "\n",
    "# nsure numeric fields are correctly formatted as numbers\n",
    "num_cols = ['Sales', 'Profit', 'Discount', 'Quantity']\n",
    "for col in num_cols:\n",
    "    df[col] = pd.to_numeric(df[col], errors='coerce')  # Convert non-numeric values to NaN\n",
    "\n",
    "# Check for missing values\n",
    "print(\"Missing value check:\")\n",
    "print(df.isnull().sum())\n",
    "\n",
    "# Drop rows with missing values in critical fields\n",
    "df = df.dropna(subset=['Order Date', 'Sales', 'Profit'])\n",
    "\n",
    "# Export cleaned data\n",
    "df.to_csv(r'C:\\Users\\mate book\\Desktop\\cleaned_ecommerce_data.csv', index=False)\n",
    "print(\"Data cleaning completed\")\n"
   ]
  }
 ],
 "metadata": {
  "kernelspec": {
   "display_name": "Python 3",
   "language": "python",
   "name": "python3"
  },
  "language_info": {
   "codemirror_mode": {
    "name": "ipython",
    "version": 3
   },
   "file_extension": ".py",
   "mimetype": "text/x-python",
   "name": "python",
   "nbconvert_exporter": "python",
   "pygments_lexer": "ipython3",
   "version": "3.12.6"
  }
 },
 "nbformat": 4,
 "nbformat_minor": 5
}
